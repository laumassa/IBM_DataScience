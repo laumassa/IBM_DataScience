{
 "cells": [
  {
   "cell_type": "markdown",
   "metadata": {},
   "source": [
    "### Functions exercices"
   ]
  },
  {
   "cell_type": "code",
   "execution_count": 3,
   "metadata": {},
   "outputs": [
    {
     "name": "stdout",
     "output_type": "stream",
     "text": [
      "Hello Leuleu !\n"
     ]
    }
   ],
   "source": [
    "def salut (name):\n",
    "    print(\"Hello\", name, \"!\")\n",
    "\n",
    "result = salut(\"Leuleu\")"
   ]
  },
  {
   "cell_type": "code",
   "execution_count": 4,
   "metadata": {},
   "outputs": [
    {
     "name": "stdout",
     "output_type": "stream",
     "text": [
      "24\n"
     ]
    }
   ],
   "source": [
    "def multiplication (a, b):\n",
    "    print(a * b)\n",
    "\n",
    "result = multiplication(6, 4)"
   ]
  },
  {
   "cell_type": "code",
   "execution_count": 6,
   "metadata": {},
   "outputs": [
    {
     "name": "stdout",
     "output_type": "stream",
     "text": [
      "nombre d'occurrences de {'good': 2}\n"
     ]
    }
   ],
   "source": [
    "def word_count(string, keyword):\n",
    "    words = []\n",
    "    dict = {}\n",
    "    words = string.split()\n",
    "    \n",
    "    for i in words:\n",
    "        if (i == keyword):\n",
    "            dict[i] = words.count(i)\n",
    "    print(\"nombre d'occurrences de\", dict)\n",
    "\n",
    "word_count(\"I always let the good ones go And baby, you couldn't have loved me any better But doin' this is all that I've known ever I want the bad ones, 'cause they're all I know I always let the good ones go\", \"good\")\n",
    "\n"
   ]
  },
  {
   "cell_type": "code",
   "execution_count": 7,
   "metadata": {},
   "outputs": [
    {
     "data": {
      "text/plain": [
       "1"
      ]
     },
     "execution_count": 7,
     "metadata": {},
     "output_type": "execute_result"
    }
   ],
   "source": [
    "len([sum([1, 1, 1])])"
   ]
  }
 ],
 "metadata": {
  "kernelspec": {
   "display_name": "Python 3",
   "language": "python",
   "name": "python3"
  },
  "language_info": {
   "codemirror_mode": {
    "name": "ipython",
    "version": 3
   },
   "file_extension": ".py",
   "mimetype": "text/x-python",
   "name": "python",
   "nbconvert_exporter": "python",
   "pygments_lexer": "ipython3",
   "version": "3.12.0"
  }
 },
 "nbformat": 4,
 "nbformat_minor": 2
}

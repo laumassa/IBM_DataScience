{
 "cells": [
  {
   "cell_type": "markdown",
   "metadata": {},
   "source": [
    "### Loops exercices"
   ]
  },
  {
   "cell_type": "markdown",
   "metadata": {},
   "source": [
    "Écris un programme qui utilise une boucle for pour afficher tous les nombres pairs de 0 à 20 (inclus)."
   ]
  },
  {
   "cell_type": "code",
   "execution_count": 3,
   "metadata": {},
   "outputs": [
    {
     "name": "stdout",
     "output_type": "stream",
     "text": [
      "0\n",
      "2\n",
      "4\n",
      "6\n",
      "8\n",
      "10\n",
      "12\n",
      "14\n",
      "16\n",
      "18\n",
      "20\n"
     ]
    }
   ],
   "source": [
    "for i in range(0, 21):\n",
    "    if i % 2 == 0:\n",
    "        print(i)"
   ]
  },
  {
   "cell_type": "markdown",
   "metadata": {},
   "source": [
    "Écris un programme qui utilise une boucle while pour calculer la somme des éléments d'une liste donnée.\n",
    "\n",
    "- Crée une liste de nombres, par exemple numbers = [1, 2, 3, 4, 5].\n",
    "- Utilise une boucle while pour parcourir la liste et additionner ses éléments.\n",
    "- Affiche la somme totale.\n"
   ]
  },
  {
   "cell_type": "code",
   "execution_count": 8,
   "metadata": {},
   "outputs": [
    {
     "name": "stdout",
     "output_type": "stream",
     "text": [
      "15\n"
     ]
    }
   ],
   "source": [
    "numbers = [1, 2, 3, 4, 5]\n",
    "total = 0\n",
    "i = 0\n",
    "\n",
    "while i < len(numbers):\n",
    "    total += numbers[i]\n",
    "    i += 1\n",
    "print(total)"
   ]
  },
  {
   "cell_type": "markdown",
   "metadata": {},
   "source": [
    "Écris un programme qui utilise une boucle for pour afficher chaque caractère d'une chaîne de caractères donnée.\n",
    "\n",
    "- Demande à l'utilisateur d'entrer une chaîne de caractères.\n",
    "- Utilise une boucle for pour parcourir chaque caractère de la chaîne.\n",
    "- Affiche chaque caractère sur une nouvelle ligne."
   ]
  },
  {
   "cell_type": "code",
   "execution_count": 10,
   "metadata": {},
   "outputs": [
    {
     "name": "stdout",
     "output_type": "stream",
     "text": [
      "L\n",
      "a\n",
      "u\n",
      "r\n",
      "e\n",
      "-\n",
      "A\n",
      "n\n",
      "n\n",
      "e\n",
      " \n",
      "M\n",
      "a\n",
      "s\n",
      "s\n",
      "a\n",
      "r\n",
      "t\n"
     ]
    }
   ],
   "source": [
    "input = \"Laure-Anne Massart\"\n",
    "letters = []\n",
    "\n",
    "for i in input:\n",
    "    print(i)"
   ]
  },
  {
   "cell_type": "markdown",
   "metadata": {},
   "source": [
    "Écris un programme qui utilise une boucle for pour afficher la table de multiplication d'un nombre donné par l'utilisateur.\n",
    "\n",
    "- Demande à l'utilisateur de saisir un nombre.\n",
    "- Utilise une boucle for pour multiplier ce nombre par les entiers de 1 à 10.\n",
    "- Affiche le résultat de chaque multiplication.\n"
   ]
  },
  {
   "cell_type": "code",
   "execution_count": 11,
   "metadata": {},
   "outputs": [
    {
     "name": "stdout",
     "output_type": "stream",
     "text": [
      "5 x 1 = 5\n",
      "5 x 2 = 10\n",
      "5 x 3 = 15\n",
      "5 x 4 = 20\n",
      "5 x 5 = 25\n",
      "5 x 6 = 30\n",
      "5 x 7 = 35\n",
      "5 x 8 = 40\n",
      "5 x 9 = 45\n",
      "5 x 10 = 50\n"
     ]
    }
   ],
   "source": [
    "number = int(5)\n",
    "\n",
    "for i in range (1, 11):\n",
    "    print(f\"{number} x {i} = {number * i}\")"
   ]
  },
  {
   "cell_type": "markdown",
   "metadata": {},
   "source": [
    "Écris un programme qui utilise une boucle while pour trouver et afficher le plus grand nombre dans une liste donnée.\n",
    "\n",
    "- Crée une liste de nombres, par exemple numbers = [3, 7, 2, 9, 5].\n",
    "- Utilise une boucle while pour parcourir la liste et trouver le plus grand nombre.\n",
    "- Affiche le plus grand nombre trouvé."
   ]
  },
  {
   "cell_type": "code",
   "execution_count": 14,
   "metadata": {},
   "outputs": [
    {
     "ename": "KeyboardInterrupt",
     "evalue": "",
     "output_type": "error",
     "traceback": [
      "\u001b[0;31m---------------------------------------------------------------------------\u001b[0m",
      "\u001b[0;31mKeyboardInterrupt\u001b[0m                         Traceback (most recent call last)",
      "Cell \u001b[0;32mIn[14], line 5\u001b[0m\n\u001b[1;32m      2\u001b[0m max_nombre \u001b[38;5;241m=\u001b[39m numbers[\u001b[38;5;241m0\u001b[39m]\n\u001b[1;32m      3\u001b[0m i \u001b[38;5;241m=\u001b[39m \u001b[38;5;241m0\u001b[39m\n\u001b[0;32m----> 5\u001b[0m \u001b[38;5;28;01mwhile\u001b[39;00m i \u001b[38;5;241m<\u001b[39m \u001b[38;5;28mlen\u001b[39m(nombres):\n\u001b[1;32m      6\u001b[0m     \u001b[38;5;28;01mif\u001b[39;00m nombres[i] \u001b[38;5;241m>\u001b[39m max_nombre:\n\u001b[1;32m      7\u001b[0m         max_nombre \u001b[38;5;241m=\u001b[39m nombres[i]\n",
      "\u001b[0;31mKeyboardInterrupt\u001b[0m: "
     ]
    }
   ],
   "source": [
    "nombres = [3, 7, 2, 9, 5]\n",
    "max_nombre = numbers[0]\n",
    "i = 1\n",
    "\n",
    "while i < len(nombres):\n",
    "    if nombres[i] > max_nombre:\n",
    "        max_nombre = nombres[i]\n",
    "i += 1\n",
    "\n",
    "print(\"Le plus grand nombre est\", max_nombre)"
   ]
  }
 ],
 "metadata": {
  "kernelspec": {
   "display_name": "Python 3",
   "language": "python",
   "name": "python3"
  },
  "language_info": {
   "codemirror_mode": {
    "name": "ipython",
    "version": 3
   },
   "file_extension": ".py",
   "mimetype": "text/x-python",
   "name": "python",
   "nbconvert_exporter": "python",
   "pygments_lexer": "ipython3",
   "version": "3.12.0"
  }
 },
 "nbformat": 4,
 "nbformat_minor": 2
}
